{
 "cells": [
  {
   "cell_type": "markdown",
   "metadata": {
    "id": "cSbxf9S3HWYz"
   },
   "source": [
    "# Setup"
   ]
  },
  {
   "cell_type": "code",
   "execution_count": null,
   "metadata": {
    "colab": {
     "base_uri": "https://localhost:8080/"
    },
    "id": "kVOV665MDhfG",
    "outputId": "ecd1724f-d46d-419c-ded8-1d1a597354fd"
   },
   "outputs": [
    {
     "name": "stdout",
     "output_type": "stream",
     "text": [
      "Drive already mounted at /content/drive; to attempt to forcibly remount, call drive.mount(\"/content/drive\", force_remount=True).\n"
     ]
    }
   ],
   "source": [
    "from google.colab import drive\n",
    "drive.mount('/content/drive')"
   ]
  },
  {
   "cell_type": "code",
   "execution_count": null,
   "metadata": {
    "colab": {
     "base_uri": "https://localhost:8080/"
    },
    "id": "8I_PP0LQDXn2",
    "outputId": "3bef8a40-bcb8-4735-be8d-703710d7b203"
   },
   "outputs": [
    {
     "name": "stdout",
     "output_type": "stream",
     "text": [
      "There are 1 GPU(s) available.\n",
      "We will use the GPU: Tesla P100-PCIE-16GB\n"
     ]
    }
   ],
   "source": [
    "import torch\n",
    "\n",
    "if torch.cuda.is_available(): # If there's a GPU available...   \n",
    "    device = torch.device(\"cuda\") # Tell PyTorch to use the GPU\n",
    "    print('There are %d GPU(s) available.' % torch.cuda.device_count())\n",
    "    print('We will use the GPU:', torch.cuda.get_device_name(0))\n",
    "else:\n",
    "    print('No GPU available, using the CPU instead.')\n",
    "    device = torch.device(\"cpu\")"
   ]
  },
  {
   "cell_type": "code",
   "execution_count": null,
   "metadata": {
    "id": "TX50iucEGpPJ"
   },
   "outputs": [],
   "source": [
    "%%capture\n",
    "!pip install transformers"
   ]
  },
  {
   "cell_type": "code",
   "execution_count": null,
   "metadata": {
    "id": "g-z5AUwaESwn"
   },
   "outputs": [],
   "source": [
    "import pandas as pd\n",
    "import numpy as np\n",
    "import os\n",
    "import pickle\n",
    "import csv\n",
    "\n",
    "import time\n",
    "import datetime\n",
    "import random\n",
    "\n",
    "#----------------------------------------------------------#\n",
    "from transformers import AutoModelForSequenceClassification\n",
    "#----------------------------------------------------------#\n",
    "\n",
    "from transformers import AdamW\n",
    "from transformers import get_linear_schedule_with_warmup\n",
    "\n",
    "import matplotlib.pyplot as plt\n",
    "import seaborn as sns\n",
    "\n",
    "from sklearn.metrics import roc_auc_score # performance metric on test set"
   ]
  },
  {
   "cell_type": "code",
   "execution_count": null,
   "metadata": {
    "id": "SLnObf8nyB9U"
   },
   "outputs": [],
   "source": [
    "SEED = 2100 # fine-tuning seed\n",
    "\n",
    "#LEARNING_RATE = 2e-4 # author recommends\n",
    "#LEARNING_RATE = 1.5e-4\n",
    "#LEARNING_RATE = 1e-4\n",
    "LEARNING_RATE = 5e-5\n",
    "#LEARNING_RATE = 3e-5\n",
    "#LEARNING_RATE = 2e-5\n",
    "\n",
    "#EPOCHS = 12\n",
    "#EPOCHS = 7\n",
    "#EPOCHS = 6\n",
    "EPOCHS = 5 # author recommends\n",
    "#EPOCHS = 3       "
   ]
  },
  {
   "cell_type": "code",
   "execution_count": null,
   "metadata": {
    "id": "1OB63WyyDylA"
   },
   "outputs": [],
   "source": [
    "def check_gpu_mem():\n",
    "\n",
    "    buf = os.popen('nvidia-smi --query-gpu=memory.total,memory.used --format=csv')\n",
    "    reader = csv.reader(buf, delimiter=',')\n",
    "    df = pd.DataFrame(reader)\n",
    "    new_header = df.iloc[0] #grab the first row for the header\n",
    "    df = df[1:] #take the data less the header row\n",
    "    df.columns = new_header #set the header row as the df header\n",
    "\n",
    "    return df"
   ]
  },
  {
   "cell_type": "code",
   "execution_count": null,
   "metadata": {
    "colab": {
     "base_uri": "https://localhost:8080/",
     "height": 80
    },
    "id": "cI7juLZaElja",
    "outputId": "00764f9a-f548-483f-9d8b-d958a1ed8dde"
   },
   "outputs": [
    {
     "data": {
      "text/html": [
       "<div>\n",
       "<style scoped>\n",
       "    .dataframe tbody tr th:only-of-type {\n",
       "        vertical-align: middle;\n",
       "    }\n",
       "\n",
       "    .dataframe tbody tr th {\n",
       "        vertical-align: top;\n",
       "    }\n",
       "\n",
       "    .dataframe thead th {\n",
       "        text-align: right;\n",
       "    }\n",
       "</style>\n",
       "<table border=\"1\" class=\"dataframe\">\n",
       "  <thead>\n",
       "    <tr style=\"text-align: right;\">\n",
       "      <th></th>\n",
       "      <th>memory.total [MiB]</th>\n",
       "      <th>memory.used [MiB]</th>\n",
       "    </tr>\n",
       "  </thead>\n",
       "  <tbody>\n",
       "    <tr>\n",
       "      <th>1</th>\n",
       "      <td>16280 MiB</td>\n",
       "      <td>2 MiB</td>\n",
       "    </tr>\n",
       "  </tbody>\n",
       "</table>\n",
       "</div>"
      ],
      "text/plain": [
       "0 memory.total [MiB]  memory.used [MiB]\n",
       "1          16280 MiB              2 MiB"
      ]
     },
     "execution_count": 7,
     "metadata": {
      "tags": []
     },
     "output_type": "execute_result"
    }
   ],
   "source": [
    "check_gpu_mem() # memory.used should be 2 MiB"
   ]
  },
  {
   "cell_type": "code",
   "execution_count": null,
   "metadata": {
    "id": "EolGf9KHj7bg"
   },
   "outputs": [],
   "source": [
    "#-----------------------------#\n",
    "#-----------------------------#\n",
    "SUBSTANCE_FOLDER = \"drug\"\n",
    "SPLITTING_SEED = \"2001\"\n",
    "#-----------------------------#\n",
    "#-----------------------------#\n",
    "\n",
    "dataloader_folder = f\"/content/drive/MyDrive/dataloaders_for_BioELECTRA/{SUBSTANCE_FOLDER}/{SPLITTING_SEED}/\""
   ]
  },
  {
   "cell_type": "code",
   "execution_count": null,
   "metadata": {
    "colab": {
     "base_uri": "https://localhost:8080/"
    },
    "id": "Q0OYLvQ1E8CI",
    "outputId": "c359fbdf-0505-4b0d-e44f-7b7dac4b5b52"
   },
   "outputs": [
    {
     "data": {
      "text/plain": [
       "50"
      ]
     },
     "execution_count": 9,
     "metadata": {
      "tags": []
     },
     "output_type": "execute_result"
    }
   ],
   "source": [
    "# truncation: 35 before, 165 after\n",
    "# batch size: 32 | token length: 64\n",
    "name = \"train_DL_JA_35b165a_32_64\" \n",
    "f = open(f\"{dataloader_folder}{name}\", \"rb\")\n",
    "train_dataloader = pickle.load(f)\n",
    "f.close()\n",
    "len(train_dataloader)"
   ]
  },
  {
   "cell_type": "code",
   "execution_count": null,
   "metadata": {
    "colab": {
     "base_uri": "https://localhost:8080/"
    },
    "id": "qLJZr-HMGOww",
    "outputId": "e1699974-0e17-4f9c-d09b-93ef188b7df3"
   },
   "outputs": [
    {
     "name": "stdout",
     "output_type": "stream",
     "text": [
      "<class 'list'>\n",
      "3\n",
      "[tensor([[    2,  3711,  1685,  ...,     0,     0,     0],\n",
      "        [    2,    64,  1025,  ...,     0,     0,     0],\n",
      "        [    2,  5304,  5125,  ...,     0,     0,     0],\n",
      "        ...,\n",
      "        [    2,  3880,  1677,  ...,     0,     0,     0],\n",
      "        [    2,  2277,  4810,  ...,     0,     0,     0],\n",
      "        [    2, 11811, 10902,  ...,     0,     0,     0]], dtype=torch.int32), tensor([[1, 1, 1,  ..., 0, 0, 0],\n",
      "        [1, 1, 1,  ..., 0, 0, 0],\n",
      "        [1, 1, 1,  ..., 0, 0, 0],\n",
      "        ...,\n",
      "        [1, 1, 1,  ..., 0, 0, 0],\n",
      "        [1, 1, 1,  ..., 0, 0, 0],\n",
      "        [1, 1, 1,  ..., 0, 0, 0]]), tensor([0, 0, 0, 0, 0, 0, 0, 0, 0, 0, 0, 0, 0, 0, 0, 0, 0, 0, 0, 0, 0, 0, 0, 0,\n",
      "        0, 0, 0, 0, 0, 0, 0, 0])]\n"
     ]
    }
   ],
   "source": [
    "for batch in train_dataloader:\n",
    "    print(type(batch))\n",
    "    print(len(batch))\n",
    "    print(batch) \n",
    "    break"
   ]
  },
  {
   "cell_type": "code",
   "execution_count": null,
   "metadata": {
    "colab": {
     "base_uri": "https://localhost:8080/"
    },
    "id": "7wf9qlqzFAvv",
    "outputId": "d9c4b40c-4e81-490e-d81b-8159d2a2d4ca"
   },
   "outputs": [
    {
     "data": {
      "text/plain": [
       "6"
      ]
     },
     "execution_count": 11,
     "metadata": {
      "tags": []
     },
     "output_type": "execute_result"
    }
   ],
   "source": [
    "name = \"valid_DL_JA_35b165a_32_64\"\n",
    "f = open(f\"{dataloader_folder}{name}\", \"rb\")\n",
    "validation_dataloader = pickle.load(f)\n",
    "f.close()\n",
    "len(validation_dataloader)"
   ]
  },
  {
   "cell_type": "code",
   "execution_count": null,
   "metadata": {
    "colab": {
     "base_uri": "https://localhost:8080/"
    },
    "id": "5FHGVN6bGWbx",
    "outputId": "34aee994-dcc8-4d1d-d40b-771432869c03"
   },
   "outputs": [
    {
     "name": "stdout",
     "output_type": "stream",
     "text": [
      "<class 'list'>\n",
      "3\n",
      "[tensor([[    2,  1685, 11359,  ...,     0,     0,     0],\n",
      "        [    2,    66,  2574,  ...,     0,     0,     0],\n",
      "        [    2,    60,  8984,  ...,     0,     0,     0],\n",
      "        ...,\n",
      "        [    2, 11875,  2428,  ...,     0,     0,     0],\n",
      "        [    2,    46,  5051,  ...,     0,     0,     0],\n",
      "        [    2, 13704,  3434,  ...,     0,     0,     0]], dtype=torch.int32), tensor([[1, 1, 1,  ..., 0, 0, 0],\n",
      "        [1, 1, 1,  ..., 0, 0, 0],\n",
      "        [1, 1, 1,  ..., 0, 0, 0],\n",
      "        ...,\n",
      "        [1, 1, 1,  ..., 0, 0, 0],\n",
      "        [1, 1, 1,  ..., 0, 0, 0],\n",
      "        [1, 1, 1,  ..., 0, 0, 0]]), tensor([0, 0, 0, 0, 0, 0, 0, 0, 0, 0, 0, 0, 0, 0, 0, 0, 0, 0, 0, 0, 0, 0, 0, 0,\n",
      "        0, 0, 0, 0, 0, 1, 0, 0])]\n"
     ]
    }
   ],
   "source": [
    "for batch in validation_dataloader:\n",
    "    print(type(batch))\n",
    "    print(len(batch))\n",
    "    print(batch) \n",
    "    break "
   ]
  },
  {
   "cell_type": "markdown",
   "metadata": {
    "id": "99r2ImiQHT3u"
   },
   "source": [
    "# Fine-Tuning"
   ]
  },
  {
   "cell_type": "code",
   "execution_count": null,
   "metadata": {
    "colab": {
     "base_uri": "https://localhost:8080/"
    },
    "id": "tLPbXUhvGaU5",
    "outputId": "0210cb7f-094d-4974-d212-50910a209c5f"
   },
   "outputs": [
    {
     "name": "stderr",
     "output_type": "stream",
     "text": [
      "Some weights of the model checkpoint at kamalkraj/bioelectra-base-discriminator-pubmed were not used when initializing ElectraForSequenceClassification: ['discriminator_predictions.dense.weight', 'discriminator_predictions.dense_prediction.bias', 'discriminator_predictions.dense.bias', 'discriminator_predictions.dense_prediction.weight']\n",
      "- This IS expected if you are initializing ElectraForSequenceClassification from the checkpoint of a model trained on another task or with another architecture (e.g. initializing a BertForSequenceClassification model from a BertForPreTraining model).\n",
      "- This IS NOT expected if you are initializing ElectraForSequenceClassification from the checkpoint of a model that you expect to be exactly identical (initializing a BertForSequenceClassification model from a BertForSequenceClassification model).\n",
      "Some weights of ElectraForSequenceClassification were not initialized from the model checkpoint at kamalkraj/bioelectra-base-discriminator-pubmed and are newly initialized: ['classifier.out_proj.weight', 'classifier.dense.bias', 'classifier.dense.weight', 'classifier.out_proj.bias']\n",
      "You should probably TRAIN this model on a down-stream task to be able to use it for predictions and inference.\n"
     ]
    }
   ],
   "source": [
    "%%capture \n",
    "model = AutoModelForSequenceClassification.from_pretrained(\n",
    "    \"kamalkraj/bioelectra-base-discriminator-pubmed\",\n",
    "    num_labels=2, \n",
    "    output_attentions = False, \n",
    "    output_hidden_states = False\n",
    ")\n",
    "model.cuda()"
   ]
  },
  {
   "cell_type": "code",
   "execution_count": null,
   "metadata": {
    "colab": {
     "base_uri": "https://localhost:8080/",
     "height": 80
    },
    "id": "_bQmUbwSguaw",
    "outputId": "fc63bfa1-ee15-4fcc-9511-16ace14b37c3"
   },
   "outputs": [
    {
     "data": {
      "text/html": [
       "<div>\n",
       "<style scoped>\n",
       "    .dataframe tbody tr th:only-of-type {\n",
       "        vertical-align: middle;\n",
       "    }\n",
       "\n",
       "    .dataframe tbody tr th {\n",
       "        vertical-align: top;\n",
       "    }\n",
       "\n",
       "    .dataframe thead th {\n",
       "        text-align: right;\n",
       "    }\n",
       "</style>\n",
       "<table border=\"1\" class=\"dataframe\">\n",
       "  <thead>\n",
       "    <tr style=\"text-align: right;\">\n",
       "      <th></th>\n",
       "      <th>memory.total [MiB]</th>\n",
       "      <th>memory.used [MiB]</th>\n",
       "    </tr>\n",
       "  </thead>\n",
       "  <tbody>\n",
       "    <tr>\n",
       "      <th>1</th>\n",
       "      <td>16280 MiB</td>\n",
       "      <td>1381 MiB</td>\n",
       "    </tr>\n",
       "  </tbody>\n",
       "</table>\n",
       "</div>"
      ],
      "text/plain": [
       "0 memory.total [MiB]  memory.used [MiB]\n",
       "1          16280 MiB           1381 MiB"
      ]
     },
     "execution_count": 14,
     "metadata": {
      "tags": []
     },
     "output_type": "execute_result"
    }
   ],
   "source": [
    "check_gpu_mem()"
   ]
  },
  {
   "cell_type": "code",
   "execution_count": null,
   "metadata": {
    "id": "M7qSgrXHH-Wg"
   },
   "outputs": [],
   "source": [
    "optimizer = AdamW(model.parameters(), # 'W' = 'Weight Decay fix\"\n",
    "                  lr = LEARNING_RATE, # defined above       (as in ConvBERT paper)\n",
    "                  eps = 1e-6 #                              (as in ConvBERT paper)\n",
    "                  # betas (b1, b2) default to 0.9 and 0.999 (as in ConvBERT paper)\n",
    "                  # weight_decay defaults to 0              (as in ConvBERT paper)\n",
    "                )"
   ]
  },
  {
   "cell_type": "code",
   "execution_count": null,
   "metadata": {
    "id": "-pHnUhSLIkpD"
   },
   "outputs": [],
   "source": [
    "epochs = EPOCHS \n",
    "\n",
    "# Total number of training steps is number of batches * number of epochs.\n",
    "total_steps = len(train_dataloader) * epochs\n",
    "\n",
    "# Create the learning rate scheduler.\n",
    "scheduler = get_linear_schedule_with_warmup(optimizer, \n",
    "                                            num_warmup_steps = 0, # Default value in run_glue.py\n",
    "                                            num_training_steps = total_steps)"
   ]
  },
  {
   "cell_type": "code",
   "execution_count": null,
   "metadata": {
    "colab": {
     "base_uri": "https://localhost:8080/"
    },
    "id": "2uFL9iFwJCBP",
    "outputId": "ea15dda0-4691-4c0d-e959-abe49b0bbbc3"
   },
   "outputs": [
    {
     "data": {
      "text/plain": [
       "250"
      ]
     },
     "execution_count": 17,
     "metadata": {
      "tags": []
     },
     "output_type": "execute_result"
    }
   ],
   "source": [
    "total_steps # if we were using a batch size of 16, we would perform twice as many steps"
   ]
  },
  {
   "cell_type": "markdown",
   "metadata": {
    "id": "Yb7L4k5pJLdo"
   },
   "source": [
    "**Training Loop**\n",
    "\n",
    "In each pass, we will train the model on our full training set, and then measure it's accuracy on our 10% holdout validation set.\n",
    "\n",
    "Let's define a few helper functions:"
   ]
  },
  {
   "cell_type": "code",
   "execution_count": null,
   "metadata": {
    "id": "-fTptXumJOun"
   },
   "outputs": [],
   "source": [
    "# Function to calculate the accuracy of our predictions vs labels\n",
    "def flat_accuracy(preds, labels):\n",
    "    pred_flat = np.argmax(preds, axis=1).flatten()\n",
    "    labels_flat = labels.flatten()\n",
    "    return np.sum(pred_flat == labels_flat) / len(labels_flat)"
   ]
  },
  {
   "cell_type": "code",
   "execution_count": null,
   "metadata": {
    "id": "DNW3b83ZJRpx"
   },
   "outputs": [],
   "source": [
    "def format_time(elapsed):\n",
    "    '''\n",
    "    Takes a time in seconds and returns a string hh:mm:ss\n",
    "    '''\n",
    "    # Round to the nearest second.\n",
    "    elapsed_rounded = int(round((elapsed)))\n",
    "    \n",
    "    # Format as hh:mm:ss\n",
    "    return str(datetime.timedelta(seconds=elapsed_rounded))"
   ]
  },
  {
   "cell_type": "markdown",
   "metadata": {
    "id": "SP3x2_XZirWF"
   },
   "source": [
    "Training code based on the `run_glue.py` [script](https://github.com/huggingface/transformers/blob/5bfcd0485ece086ebcbed2d008813037968a9e58/examples/run_glue.py#L128)"
   ]
  },
  {
   "cell_type": "code",
   "execution_count": null,
   "metadata": {
    "colab": {
     "base_uri": "https://localhost:8080/"
    },
    "id": "-80yASWZJZ4J",
    "outputId": "dcbc5b39-7810-4416-d45f-d9bd9501633c"
   },
   "outputs": [
    {
     "name": "stdout",
     "output_type": "stream",
     "text": [
      "\n",
      "======== Epoch 1 / 5 ========\n",
      "Training...\n",
      "  Batch    25  of     50.    Elapsed: 0:00:05.\n",
      "\n",
      "  Average training loss: 0.17\n",
      "  Training epcoh took: 0:00:10\n",
      "\n",
      "Running Validation...\n",
      "  Accuracy: 0.98\n",
      "  Validation took: 0:00:00\n",
      "\n",
      "======== Epoch 2 / 5 ========\n",
      "Training...\n",
      "  Batch    25  of     50.    Elapsed: 0:00:05.\n",
      "\n",
      "  Average training loss: 0.08\n",
      "  Training epcoh took: 0:00:10\n",
      "\n",
      "Running Validation...\n",
      "  Accuracy: 0.99\n",
      "  Validation took: 0:00:00\n",
      "\n",
      "======== Epoch 3 / 5 ========\n",
      "Training...\n",
      "  Batch    25  of     50.    Elapsed: 0:00:05.\n",
      "\n",
      "  Average training loss: 0.03\n",
      "  Training epcoh took: 0:00:10\n",
      "\n",
      "Running Validation...\n",
      "  Accuracy: 0.99\n",
      "  Validation took: 0:00:00\n",
      "\n",
      "======== Epoch 4 / 5 ========\n",
      "Training...\n",
      "  Batch    25  of     50.    Elapsed: 0:00:05.\n",
      "\n",
      "  Average training loss: 0.01\n",
      "  Training epcoh took: 0:00:10\n",
      "\n",
      "Running Validation...\n",
      "  Accuracy: 1.00\n",
      "  Validation took: 0:00:00\n",
      "\n",
      "======== Epoch 5 / 5 ========\n",
      "Training...\n",
      "  Batch    25  of     50.    Elapsed: 0:00:05.\n",
      "\n",
      "  Average training loss: 0.01\n",
      "  Training epcoh took: 0:00:10\n",
      "\n",
      "Running Validation...\n",
      "  Accuracy: 1.00\n",
      "  Validation took: 0:00:00\n",
      "\n",
      "Training complete!\n"
     ]
    }
   ],
   "source": [
    "seed_val = SEED # Set the seed value all over the place to make this reproducible.\n",
    "\n",
    "random.seed(seed_val)\n",
    "np.random.seed(seed_val)\n",
    "torch.manual_seed(seed_val)\n",
    "torch.cuda.manual_seed_all(seed_val)\n",
    "\n",
    "# Store the average loss after each epoch so we can plot them.\n",
    "loss_values = []\n",
    "\n",
    "for epoch_i in range(0, epochs): # For each epoch...\n",
    "    \n",
    "    # ========================================\n",
    "    #               Training\n",
    "    # ========================================\n",
    "    \n",
    "    # Perform one full pass over the training set.\n",
    "\n",
    "    print(\"\")\n",
    "    print('======== Epoch {:} / {:} ========'.format(epoch_i + 1, epochs))\n",
    "    print('Training...')\n",
    "\n",
    "    t0 = time.time() # Measure how long the training epoch takes.\n",
    "\n",
    "    total_loss = 0 # Reset the total loss for this epoch.\n",
    "\n",
    "    # Put the model into training mode. Don't be mislead--the call to \n",
    "    # `train` just changes the *mode*, it DOESN'T LITERALLY *perform* the training.\n",
    "    # `dropout` and `batchnorm` layers behave differently during training\n",
    "    # vs. test (source: https://stackoverflow.com/questions/51433378/what-does-model-train-do-in-pytorch)\n",
    "    model.train()\n",
    "\n",
    "    for step, batch in enumerate(train_dataloader): # For each batch of training data...\n",
    "\n",
    "        if step % 25 == 0 and not step == 0: # Progress update every 25 batches.\n",
    "            # Calculate elapsed time in minutes.\n",
    "            elapsed = format_time(time.time() - t0)\n",
    "            \n",
    "            # Report progress.\n",
    "            print('  Batch {:>5,}  of  {:>5,}.    Elapsed: {:}.'.format(step, len(train_dataloader), elapsed))\n",
    "\n",
    "        # Unpack this training batch from our dataloader. \n",
    "        #\n",
    "        # As we unpack the batch, we'll also copy each tensor to the GPU using the \n",
    "        # `to` method.\n",
    "        #\n",
    "        # `batch` contains three pytorch tensors:\n",
    "        #   [0]: input ids \n",
    "        #   [1]: attention masks\n",
    "        #   [2]: labels \n",
    "        b_input_ids = batch[0].to(device)\n",
    "        b_input_mask = batch[1].to(device)\n",
    "        b_labels = batch[2].to(device)\n",
    "\n",
    "        # Always clear any previously calculated gradients before performing a\n",
    "        # backward pass. PyTorch doesn't do this automatically because \n",
    "        # accumulating the gradients is \"convenient while training RNNs\". \n",
    "        # (source: https://stackoverflow.com/questions/48001598/why-do-we-need-to-call-zero-grad-in-pytorch)\n",
    "        model.zero_grad()        \n",
    "\n",
    "        # Perform a forward pass (evaluate the model on this training batch).\n",
    "        # In PyTorch, calling `model` will in turn call the model's `forward` \n",
    "        # function and pass down the arguments. The `forward` function is \n",
    "        # documented here: \n",
    "        # https://huggingface.co/transformers/model_doc/bert.html#bertforsequenceclassification\n",
    "        # The results are returned in a results object, documented here:\n",
    "        # https://huggingface.co/transformers/main_classes/output.html#transformers.modeling_outputs.SequenceClassifierOutput\n",
    "        result = model(b_input_ids, \n",
    "                       token_type_ids=None, \n",
    "                       attention_mask=b_input_mask, \n",
    "                       labels=b_labels,\n",
    "                       return_dict=True)\n",
    "\n",
    "        loss = result.loss\n",
    "\n",
    "        # Accumulate the training loss over all of the batches so that we can\n",
    "        # calculate the average loss at the end. `loss` is a Tensor containing a\n",
    "        # single value; the `.item()` function just returns the Python value \n",
    "        # from the tensor.\n",
    "        total_loss += loss.item()\n",
    "\n",
    "        # Perform a backward pass to calculate the gradients.\n",
    "        loss.backward()\n",
    "\n",
    "        # Clip the norm of the gradients to 1.0.\n",
    "        # This is to help prevent the \"exploding gradients\" problem.\n",
    "        torch.nn.utils.clip_grad_norm_(model.parameters(), 1.0)\n",
    "\n",
    "        # Update parameters and take a step using the computed gradient.\n",
    "        # The optimizer dictates the \"update rule\"--how the parameters are\n",
    "        # modified based on their gradients, the learning rate, etc.\n",
    "        optimizer.step()\n",
    "\n",
    "        # Update the learning rate.\n",
    "        scheduler.step()\n",
    "\n",
    "    # Calculate the average loss over the training data.\n",
    "    avg_train_loss = total_loss / len(train_dataloader)            \n",
    "    \n",
    "    # Store the loss value for plotting the learning curve.\n",
    "    loss_values.append(avg_train_loss)\n",
    "\n",
    "    print(\"\")\n",
    "    print(\"  Average training loss: {0:.2f}\".format(avg_train_loss))\n",
    "    print(\"  Training epcoh took: {:}\".format(format_time(time.time() - t0)))\n",
    "        \n",
    "    # ========================================\n",
    "    #               Validation\n",
    "    # ========================================\n",
    "    # After the completion of each training epoch, measure our performance on\n",
    "    # our validation set.\n",
    "\n",
    "    print(\"\")\n",
    "    print(\"Running Validation...\")\n",
    "\n",
    "    t0 = time.time()\n",
    "\n",
    "    # Put the model in evaluation mode--the dropout layers behave differently\n",
    "    # during evaluation.\n",
    "    model.eval()\n",
    "\n",
    "    # Tracking variables \n",
    "    eval_loss, eval_accuracy = 0, 0\n",
    "    nb_eval_steps, nb_eval_examples = 0, 0\n",
    "\n",
    "    # Evaluate data for one epoch\n",
    "    for batch in validation_dataloader:\n",
    "        \n",
    "        # Add batch to GPU\n",
    "        batch = tuple(t.to(device) for t in batch)\n",
    "        \n",
    "        # Unpack the inputs from our dataloader\n",
    "        b_input_ids, b_input_mask, b_labels = batch\n",
    "        \n",
    "        # Telling the model not to compute or store gradients, saving memory and\n",
    "        # speeding up validation\n",
    "        with torch.no_grad():        \n",
    "\n",
    "            # Forward pass, calculate logit predictions.\n",
    "            # token_type_ids is the same as the \"segment ids\", which \n",
    "            # differentiates sentence 1 and 2 in 2-sentence tasks.\n",
    "            result = model(b_input_ids, \n",
    "                           token_type_ids=None, \n",
    "                           attention_mask=b_input_mask,\n",
    "                           labels=b_labels,\n",
    "                           return_dict=True)\n",
    "\n",
    "        # Get the loss and \"logits\" output by the model. The \"logits\" are the \n",
    "        # output values prior to applying an activation function like the \n",
    "        # softmax.\n",
    "        loss = result.loss\n",
    "        logits = result.logits\n",
    "\n",
    "        # Move logits and labels to CPU\n",
    "        logits = logits.detach().cpu().numpy()\n",
    "        label_ids = b_labels.to('cpu').numpy()\n",
    "        \n",
    "        # Calculate the accuracy for this batch of test sentences.\n",
    "        tmp_eval_accuracy = flat_accuracy(logits, label_ids)\n",
    "        \n",
    "        # Accumulate the total accuracy.\n",
    "        eval_accuracy += tmp_eval_accuracy\n",
    "\n",
    "        # Track the number of batches\n",
    "        nb_eval_steps += 1\n",
    "\n",
    "    # Report the final accuracy for this validation run.\n",
    "    print(\"  Accuracy: {0:.2f}\".format(eval_accuracy/nb_eval_steps))\n",
    "    print(\"  Validation took: {:}\".format(format_time(time.time() - t0)))\n",
    "\n",
    "print(\"\")\n",
    "print(\"Training complete!\") "
   ]
  },
  {
   "cell_type": "markdown",
   "metadata": {
    "id": "AumRvpdP85j6"
   },
   "source": [
    "Let's take a look at our training loss over all batches:"
   ]
  },
  {
   "cell_type": "code",
   "execution_count": null,
   "metadata": {
    "colab": {
     "base_uri": "https://localhost:8080/",
     "height": 427
    },
    "id": "b-mi8nKdVZjo",
    "outputId": "e037b3c5-4516-4275-dda1-454cd4ce7a62"
   },
   "outputs": [
    {
     "data": {
      "image/png": "[encoded data removed]",
      "text/plain": [
       "<Figure size 864x432 with 1 Axes>"
      ]
     },
     "metadata": {
      "tags": []
     },
     "output_type": "display_data"
    }
   ],
   "source": [
    "% matplotlib inline\n",
    "\n",
    "sns.set(style='darkgrid')\n",
    "sns.set(font_scale=1.5)\n",
    "plt.rcParams[\"figure.figsize\"] = (12,6)\n",
    "\n",
    "plt.plot(loss_values, 'b-o') # Plot the learning curve.\n",
    "\n",
    "plt.title(\"Training loss\")\n",
    "plt.xlabel(\"Epoch\")\n",
    "plt.ylabel(\"Loss\")\n",
    "\n",
    "plt.show()"
   ]
  },
  {
   "cell_type": "markdown",
   "metadata": {
    "id": "pKdV0yrtXIgv"
   },
   "source": [
    "# Evaluation\n",
    "Now we'll load the holdout (test) set, prepared and formatted in the exact same manner as the training data."
   ]
  },
  {
   "cell_type": "code",
   "execution_count": null,
   "metadata": {
    "colab": {
     "base_uri": "https://localhost:8080/"
    },
    "id": "1UzRX0B7J9o2",
    "outputId": "6a65ae2b-5e8f-4373-fb42-11c1f8d818cc"
   },
   "outputs": [
    {
     "data": {
      "text/plain": [
       "14"
      ]
     },
     "execution_count": 22,
     "metadata": {
      "tags": []
     },
     "output_type": "execute_result"
    }
   ],
   "source": [
    "name = \"test_DL_JA_35b165a_32_64\"\n",
    "f = open(f\"{dataloader_folder}{name}\", \"rb\")\n",
    "test_dataloader = pickle.load(f)\n",
    "f.close()\n",
    "len(test_dataloader) # number of batches in dataloader"
   ]
  },
  {
   "cell_type": "code",
   "execution_count": null,
   "metadata": {
    "colab": {
     "base_uri": "https://localhost:8080/"
    },
    "id": "oTOVHrvkXMZA",
    "outputId": "727e8819-fc85-4618-f20e-ea2e34571771"
   },
   "outputs": [
    {
     "name": "stdout",
     "output_type": "stream",
     "text": [
      "<class 'list'>\n",
      "3\n",
      "[tensor([[    2, 11811, 10902,  ...,     0,     0,     0],\n",
      "        [    2, 15006,  1033,  ...,     0,     0,     0],\n",
      "        [    2,  3135,  2921,  ...,     0,     0,     0],\n",
      "        ...,\n",
      "        [    2,  5065,  6905,  ...,     0,     0,     0],\n",
      "        [    2,  1833,  2748,  ...,     0,     0,     0],\n",
      "        [    2, 12002,  1689,  ...,     0,     0,     0]], dtype=torch.int32), tensor([[1, 1, 1,  ..., 0, 0, 0],\n",
      "        [1, 1, 1,  ..., 0, 0, 0],\n",
      "        [1, 1, 1,  ..., 0, 0, 0],\n",
      "        ...,\n",
      "        [1, 1, 1,  ..., 0, 0, 0],\n",
      "        [1, 1, 1,  ..., 0, 0, 0],\n",
      "        [1, 1, 1,  ..., 0, 0, 0]]), tensor([0, 0, 0, 0, 0, 0, 0, 0, 0, 0, 0, 0, 0, 0, 0, 0, 0, 0, 0, 0, 0, 0, 0, 0,\n",
      "        0, 0, 0, 0, 0, 0, 0, 0])]\n"
     ]
    }
   ],
   "source": [
    "for batch in test_dataloader:\n",
    "    print(type(batch))\n",
    "    print(len(batch))\n",
    "    print(batch) \n",
    "    break"
   ]
  },
  {
   "cell_type": "markdown",
   "metadata": {
    "id": "yOIFzMOY9Ymp"
   },
   "source": [
    "With the test set prepared, we can apply our fine-tuned model to generate predictions on this test set."
   ]
  },
  {
   "cell_type": "code",
   "execution_count": null,
   "metadata": {
    "colab": {
     "base_uri": "https://localhost:8080/"
    },
    "id": "hJXi1XEOXQq5",
    "outputId": "479f9688-0b50-45ee-d676-8284a02d8fd5"
   },
   "outputs": [
    {
     "name": "stdout",
     "output_type": "stream",
     "text": [
      "Predicting labels for test sentences...\n",
      "    DONE.\n"
     ]
    }
   ],
   "source": [
    "print('Predicting labels for test sentences...') # Prediction on test set\n",
    "\n",
    "model.eval() # Put model in evaluation mode\n",
    "predictions , true_labels = [], [] # Tracking variables \n",
    "t0 = time.time() # Measure elapsed time.\n",
    "\n",
    "for (step, batch) in enumerate(test_dataloader): # Predict\n",
    "\n",
    "    batch = tuple(t.to(device) for t in batch) # Add batch to GPU\n",
    "  \n",
    "    if step % 25 == 0 and not step == 0: # Progress update every 25 batches.\n",
    "\n",
    "        elapsed = format_time(time.time() - t0) # Calculate elapsed time in minutes.\n",
    "        \n",
    "        print('  Batch {:>5,}  of  {:>5,}.    Elapsed: {:}.'.format(step, len(test_dataloader), elapsed))\n",
    "\n",
    "\n",
    "    b_input_ids, b_input_mask, b_labels = batch # Unpack the inputs from our dataloader\n",
    "  \n",
    "    # Telling the model not to compute or store gradients, saving memory and speeding up prediction\n",
    "    with torch.no_grad():\n",
    "        # Forward pass, calculate logit predictions.\n",
    "        result = model(b_input_ids, \n",
    "                       token_type_ids=None, \n",
    "                       attention_mask=b_input_mask,\n",
    "                       return_dict=True)\n",
    "\n",
    "    logits = result.logits\n",
    "\n",
    "    # Move logits and labels to CPU\n",
    "    logits = logits.detach().cpu().numpy()\n",
    "    label_ids = b_labels.to('cpu').numpy()\n",
    "  \n",
    "    # Store predictions and true labels\n",
    "    predictions.append(logits)\n",
    "    true_labels.append(label_ids)\n",
    "\n",
    "print('    DONE.')"
   ]
  },
  {
   "cell_type": "code",
   "execution_count": null,
   "metadata": {
    "colab": {
     "base_uri": "https://localhost:8080/"
    },
    "id": "Y3_-Li30XXS7",
    "outputId": "bcace446-2750-41a7-c6cf-33fb1e26bdae"
   },
   "outputs": [
    {
     "data": {
      "text/plain": [
       "((444, 2), (444,))"
      ]
     },
     "execution_count": 25,
     "metadata": {
      "tags": []
     },
     "output_type": "execute_result"
    }
   ],
   "source": [
    "# RUN CELL ONCE\n",
    "# Combine the results across the batches.\n",
    "predictions = np.concatenate(predictions, axis=0)\n",
    "true_labels = np.concatenate(true_labels, axis=0)\n",
    "predictions.shape, true_labels.shape"
   ]
  },
  {
   "cell_type": "code",
   "execution_count": null,
   "metadata": {
    "colab": {
     "base_uri": "https://localhost:8080/"
    },
    "id": "HP5_h_wCYf96",
    "outputId": "e14e24fd-0a50-4444-d85e-a50d2e9bd3da"
   },
   "outputs": [
    {
     "data": {
      "text/plain": [
       "(array([[ 3.4228864, -3.072373 ],\n",
       "        [ 3.4221053, -3.0844035],\n",
       "        [ 3.3936248, -3.0767388],\n",
       "        [ 3.378662 , -3.032909 ],\n",
       "        [ 3.394611 , -3.0609708],\n",
       "        [ 3.4006248, -3.068523 ],\n",
       "        [ 3.3927033, -3.0677042],\n",
       "        [ 3.4187717, -3.090024 ],\n",
       "        [ 3.4159813, -3.0846734],\n",
       "        [ 3.405515 , -3.0692437]], dtype=float32),\n",
       " array([0, 0, 0, 0, 0, 0, 0, 0, 0, 0]))"
      ]
     },
     "execution_count": 26,
     "metadata": {
      "tags": []
     },
     "output_type": "execute_result"
    }
   ],
   "source": [
    "predictions[0:10], true_labels[0:10]"
   ]
  },
  {
   "cell_type": "code",
   "execution_count": null,
   "metadata": {
    "colab": {
     "base_uri": "https://localhost:8080/"
    },
    "id": "ldM4ZxHhZDZP",
    "outputId": "cb5c7148-a193-4d34-c6aa-e93952510fe1"
   },
   "outputs": [
    {
     "name": "stdout",
     "output_type": "stream",
     "text": [
      "PREDICTED positive labels: 7\n",
      "ACTUAL positive labels: 8\n"
     ]
    }
   ],
   "source": [
    "classes = []\n",
    "for pred in predictions[:,1]:\n",
    "    if pred > 0:\n",
    "        classes.append(1)\n",
    "    if pred < 0:\n",
    "        classes.append(0)\n",
    "\n",
    "true_labels = list(true_labels)\n",
    "print(\"PREDICTED positive labels:\", classes.count(1))\n",
    "print(\"ACTUAL positive labels:\", true_labels.count(1))"
   ]
  },
  {
   "cell_type": "markdown",
   "metadata": {},
   "source": [
    "In particular, our dataset lacked positive drug samples."
   ]
  },
  {
   "cell_type": "code",
   "execution_count": null,
   "metadata": {
    "colab": {
     "base_uri": "https://localhost:8080/"
    },
    "id": "3xiMf7Q_Zal_",
    "outputId": "d048b910-7eaf-4d84-c3bc-bb944e1a05be"
   },
   "outputs": [
    {
     "name": "stdout",
     "output_type": "stream",
     "text": [
      "True Positives: 7\n",
      "False Positives: 0\n",
      "False Negatives: 1\n",
      "True Negatives: 436\n",
      "---------------------\n",
      "Precision = 1.0\n",
      "Recall = 0.875\n",
      "F1 Score = 0.933\n",
      "---------------------\n",
      "Test ROC AUC: 1.000\n",
      "---------------------\n",
      "COPY THE RESULTS BELOW:\n",
      "100.0 87.5 93.3\n"
     ]
    }
   ],
   "source": [
    "from sklearn.metrics import roc_auc_score # Our performance metric for the test set.\n",
    "\n",
    "p1 = predictions[:,1] # Use the model output for label 1 as our predictions.\n",
    "auc = roc_auc_score(true_labels, p1) # Calculate the ROC AUC.\n",
    "\n",
    "true_positives = 0\n",
    "false_positives = 0\n",
    "false_negatives = 0\n",
    "true_negatives = 0\n",
    "\n",
    "for index, value in enumerate(list(true_labels)):\n",
    "    if (classes[index] == 1) and (true_labels[index] == 1): # true positive\n",
    "        true_positives+=1 \n",
    "    if (classes[index] == 1) and (true_labels[index] == 0): # false positive\n",
    "        false_positives+=1\n",
    "    if (classes[index] == 0) and (true_labels[index] == 1): # false negative\n",
    "        false_negatives+=1\n",
    "    if (classes[index] == 0) and (true_labels[index] == 0): # true negative\n",
    "        true_negatives+=1\n",
    "        \n",
    "print(f\"True Positives: {true_positives}\")\n",
    "print(f\"False Positives: {false_positives}\")\n",
    "print(f\"False Negatives: {false_negatives}\")\n",
    "print(f\"True Negatives: {true_negatives}\")\n",
    "print(\"---------------------\")\n",
    "\n",
    "precision = np.round(true_positives/(true_positives + false_positives), 3)\n",
    "recall = np.round(true_positives/(true_positives + false_negatives), 3)\n",
    "f1_score = np.round(2*((precision * recall)/(precision + recall)), 3)\n",
    "\n",
    "print(f\"Precision = {precision}\")\n",
    "print(f\"Recall = {recall}\")\n",
    "print(f\"F1 Score = {f1_score}\")\n",
    "print(\"---------------------\")\n",
    "print('Test ROC AUC: %.3f' %auc)\n",
    "print(\"---------------------\")\n",
    "print(\"COPY THE RESULTS BELOW:\")\n",
    "print(np.around(precision*100, 3), np.around(recall*100, 3), np.around(f1_score*100, 3))"
   ]
  },
  {
   "cell_type": "code",
   "execution_count": null,
   "metadata": {
    "id": "UqgfYDFfmgLB"
   },
   "outputs": [],
   "source": []
  }
 ],
 "metadata": {
  "accelerator": "GPU",
  "colab": {
   "collapsed_sections": [],
   "machine_shape": "hm",
   "name": "BioELECTRA_finetuning.ipynb",
   "provenance": [],
   "toc_visible": true
  },
  "kernelspec": {
   "display_name": "Python 3",
   "language": "python",
   "name": "python3"
  },
  "language_info": {
   "codemirror_mode": {
    "name": "ipython",
    "version": 3
   },
   "file_extension": ".py",
   "mimetype": "text/x-python",
   "name": "python",
   "nbconvert_exporter": "python",
   "pygments_lexer": "ipython3",
   "version": "3.8.5"
  }
 },
 "nbformat": 4,
 "nbformat_minor": 4
}
